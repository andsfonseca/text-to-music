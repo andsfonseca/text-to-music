{
 "cells": [
  {
   "cell_type": "markdown",
   "metadata": {},
   "source": [
    "# Diffusion Auto Encoder\n",
    "\n",
    "This is a implementation from [audio-diffusion-pytorch](https://github.com/archinetai/audio-diffusion-pytorch). "
   ]
  },
  {
   "cell_type": "code",
   "execution_count": 17,
   "metadata": {},
   "outputs": [],
   "source": [
    "import torch\n",
    "from torch.utils.data import DataLoader\n",
    "\n",
    "from src.datasets import MusicCapsDataset\n",
    "from src.features import PreProcessor\n",
    "from src.features.extractor import WaveformExtractor\n",
    "from src.models import DiffusionAE\n",
    "from src.models.callbacks import MetricsCallback\n",
    "from src.utils.data import TorchDataset\n",
    "from src.visualization import ChartsViewer\n",
    "from src.utils.audio import Audio\n",
    "\n",
    "import pytorch_lightning as pl\n",
    "from pytorch_lightning.callbacks import ModelCheckpoint"
   ]
  },
  {
   "cell_type": "markdown",
   "metadata": {},
   "source": [
    "## Data Preparation"
   ]
  },
  {
   "cell_type": "markdown",
   "metadata": {},
   "source": [
    "### Generate Dataset\n",
    "\n",
    "Each Musiccaps dataset has 10-second audios. To adapt to this model we will apply the following changes to the data:\n",
    "\n",
    "* We will divide the data into two parts of 5.5 seconds. Each part of the audio will have two times: from 0 to 5.5 and 4.5 to 10 seconds.\n",
    "* For each new audio, we will add information to the 'aspect list' and 'caption' explaining the audio track. For example '1 of 2' or '2 of 2'."
   ]
  },
  {
   "cell_type": "code",
   "execution_count": 3,
   "metadata": {},
   "outputs": [],
   "source": [
    "musiccaps_generator = MusicCapsDataset(format=\"mp3\", crop_length=5.5)\n",
    "dataset = musiccaps_generator.generate(num_proc=1)"
   ]
  },
  {
   "cell_type": "markdown",
   "metadata": {},
   "source": [
    "### Preprocessing the data\n",
    "\n",
    "For the format defined by the article, we need to cut the song to size 2**18 (approximately 5.5 seconds), so that it adapts to the network input"
   ]
  },
  {
   "cell_type": "code",
   "execution_count": 4,
   "metadata": {},
   "outputs": [
    {
     "name": "stdout",
     "output_type": "stream",
     "text": [
      "Loading train/test indexes...\n"
     ]
    },
    {
     "name": "stderr",
     "output_type": "stream",
     "text": [
      "Generating train subset [Waveform]: 100%|██████████| 8712/8712 [05:55<00:00, 24.52it/s]\n",
      "Generating test subset [Waveform]: 100%|██████████| 2178/2178 [01:37<00:00, 22.27it/s]\n"
     ]
    }
   ],
   "source": [
    "# Tip: We don't need to save waveforms.\n",
    "train, test = PreProcessor(dataset, lambda dataset : WaveformExtractor(dataset, column=\"audio\", crop_length=2**18)).get_train_test_split(path=musiccaps_generator.get_processed_folder(), save_split_sets=False)"
   ]
  },
  {
   "cell_type": "markdown",
   "metadata": {},
   "source": [
    "## Training"
   ]
  },
  {
   "cell_type": "markdown",
   "metadata": {},
   "source": [
    "### Parameters"
   ]
  },
  {
   "cell_type": "code",
   "execution_count": 5,
   "metadata": {},
   "outputs": [],
   "source": [
    "NUM_EPOCHS = 5\n",
    "BATCH_SIZE = 8\n",
    "DECODE_STEPS = 100\n",
    "MODEL_BEST = \"best-epoch\"\n",
    "MODEL_RESULT = \"last-epoch\"\n",
    "SAMPLING_RATE = 48000"
   ]
  },
  {
   "cell_type": "markdown",
   "metadata": {},
   "source": [
    "### Adapting train data\n",
    "\n",
    "We need to adapt the standard pytorch data:\n",
    "\n",
    "* The pattern suggested in the documentation is [batch, in_channels, length]. In our case, our dataset is in the format [batch, length]. (length is the multiplication of frequency by time).\n",
    "* We need to use DataLoader, an optimized implementation to access our data.\n",
    "* We take the opportunity to use the gpu, if available"
   ]
  },
  {
   "cell_type": "code",
   "execution_count": 6,
   "metadata": {},
   "outputs": [],
   "source": [
    "device = torch.device('cuda' if torch.cuda.is_available() else 'cpu')\n",
    "batch_size = 4\n",
    "transform = lambda x: x.unsqueeze(0) # (batch, length) ->  (batch, 1, length)\n",
    "\n",
    "train_dataset = TorchDataset(train[:20], transform=transform)\n",
    "train_dataloader = DataLoader(train_dataset, batch_size=batch_size, shuffle=True)"
   ]
  },
  {
   "cell_type": "markdown",
   "metadata": {},
   "source": [
    "### Model definition\n",
    "\n",
    "We use the same as the original example. We add an optimizer to update the parameters of the model based on the gradients computed during backpropagation.\n",
    "The loss is calculated internally."
   ]
  },
  {
   "cell_type": "code",
   "execution_count": 7,
   "metadata": {},
   "outputs": [
    {
     "name": "stdout",
     "output_type": "stream",
     "text": [
      "models/DiffusionAE//run_2023-11-17_16-58-15\n"
     ]
    }
   ],
   "source": [
    "autoencoder = DiffusionAE()\n",
    "run_folder = autoencoder.get_run_folder()\n",
    "print(run_folder)"
   ]
  },
  {
   "cell_type": "code",
   "execution_count": 8,
   "metadata": {},
   "outputs": [],
   "source": [
    "# Callbacks\n",
    "last_checkpoint_callback = ModelCheckpoint(\n",
    "    dirpath=run_folder,  \n",
    "    filename=MODEL_RESULT,  \n",
    "    save_last=True,  \n",
    "    save_weights_only=True,\n",
    ")\n",
    "\n",
    "best_checkpoint_callback = ModelCheckpoint(\n",
    "    dirpath=run_folder,  \n",
    "    filename=MODEL_BEST, \n",
    "    monitor='train_loss',  \n",
    "    mode='min',  \n",
    "    save_top_k=1, \n",
    "    save_weights_only=True,\n",
    ")\n",
    "\n",
    "metrics_callback = MetricsCallback()\n",
    "\n",
    "callbacks = [last_checkpoint_callback,\n",
    "                  best_checkpoint_callback, \n",
    "                  metrics_callback]\n"
   ]
  },
  {
   "cell_type": "markdown",
   "metadata": {},
   "source": [
    "### Training loop"
   ]
  },
  {
   "cell_type": "code",
   "execution_count": 9,
   "metadata": {},
   "outputs": [
    {
     "name": "stderr",
     "output_type": "stream",
     "text": [
      "GPU available: True (cuda), used: True\n",
      "TPU available: False, using: 0 TPU cores\n",
      "IPU available: False, using: 0 IPUs\n",
      "HPU available: False, using: 0 HPUs\n",
      "e:\\text-to-music\\.venv\\lib\\site-packages\\pytorch_lightning\\trainer\\connectors\\logger_connector\\logger_connector.py:67: Starting from v1.9.0, `tensorboardX` has been removed as a dependency of the `pytorch_lightning` package, due to potential conflicts with other packages in the ML ecosystem. For this reason, `logger=True` will use `CSVLogger` as the default logger, unless the `tensorboard` or `tensorboardX` packages are found. Please `pip install lightning[extra]` or one of them to enable TensorBoard support by default\n",
      "Missing logger folder: models\\DiffusionAE\\run_2023-11-17_16-58-15\\lightning_logs\n",
      "e:\\text-to-music\\.venv\\lib\\site-packages\\pytorch_lightning\\callbacks\\model_checkpoint.py:630: Checkpoint directory E:\\text-to-music\\models\\DiffusionAE\\run_2023-11-17_16-58-15 exists and is not empty.\n",
      "LOCAL_RANK: 0 - CUDA_VISIBLE_DEVICES: [0]\n",
      "\n",
      "  | Name  | Type        | Params\n",
      "--------------------------------------\n",
      "0 | model | DiffusionAE | 197 M \n",
      "--------------------------------------\n",
      "197 M     Trainable params\n",
      "0         Non-trainable params\n",
      "197 M     Total params\n",
      "790.878   Total estimated model params size (MB)\n",
      "e:\\text-to-music\\.venv\\lib\\site-packages\\pytorch_lightning\\trainer\\connectors\\data_connector.py:441: The 'train_dataloader' does not have many workers which may be a bottleneck. Consider increasing the value of the `num_workers` argument` to `num_workers=7` in the `DataLoader` to improve performance.\n",
      "e:\\text-to-music\\.venv\\lib\\site-packages\\pytorch_lightning\\loops\\fit_loop.py:293: The number of training batches (5) is smaller than the logging interval Trainer(log_every_n_steps=50). Set a lower value for log_every_n_steps if you want to see logs for the training epoch.\n"
     ]
    },
    {
     "data": {
      "application/vnd.jupyter.widget-view+json": {
       "model_id": "6c75b46e84594f148dd5e5b7659a0990",
       "version_major": 2,
       "version_minor": 0
      },
      "text/plain": [
       "Training: |          | 0/? [00:00<?, ?it/s]"
      ]
     },
     "metadata": {},
     "output_type": "display_data"
    },
    {
     "name": "stderr",
     "output_type": "stream",
     "text": [
      "`Trainer.fit` stopped: `max_epochs=5` reached.\n"
     ]
    }
   ],
   "source": [
    "# Configurar treinamento\n",
    "trainer = pl.Trainer(\n",
    "    max_epochs=5,  # Número de épocas\n",
    "    callbacks=callbacks,\n",
    "    default_root_dir=run_folder\n",
    ")\n",
    "\n",
    "# Treinar o modelo\n",
    "trainer.fit(model=autoencoder, train_dataloaders=train_dataloader)"
   ]
  },
  {
   "cell_type": "code",
   "execution_count": 10,
   "metadata": {},
   "outputs": [
    {
     "data": {
      "image/png": "[encoded data removed]",
      "text/plain": [
       "<Figure size 640x480 with 1 Axes>"
      ]
     },
     "metadata": {},
     "output_type": "display_data"
    }
   ],
   "source": [
    "logged_metrics = metrics_callback.metrics\n",
    "losses_values = []\n",
    "\n",
    "# Exiba as métricas\n",
    "for metric_dict in logged_metrics:\n",
    "    for metric_name, metric_value in metric_dict.items():\n",
    "        losses_values.append(metric_value.cpu())\n",
    "        \n",
    "ChartsViewer.get_line_chart(losses_values, title=\"Train: Loss\", x_label=\"Epochs\", y_label=\"Loss\")"
   ]
  },
  {
   "cell_type": "code",
   "execution_count": 11,
   "metadata": {},
   "outputs": [],
   "source": [
    "test_dataset = TorchDataset(test[:1], transform=transform)\n",
    "test_dataloader = DataLoader(test_dataset, batch_size=BATCH_SIZE, shuffle=True)"
   ]
  },
  {
   "cell_type": "code",
   "execution_count": 15,
   "metadata": {},
   "outputs": [],
   "source": [
    "autoencoder.eval()\n",
    "\n",
    "generated_audios = torch.empty(0, device=device) \n",
    "\n",
    "with torch.no_grad():\n",
    "    for i, batch in enumerate(test_dataloader):\n",
    "        latent = autoencoder.encode(batch)\n",
    "        generated_audio = autoencoder.decode(latent, num_steps=DECODE_STEPS)\n",
    "        generated_audio = generated_audio.to(device)\n",
    "        generated_audios = torch.cat((generated_audios, generated_audio), dim=0)"
   ]
  },
  {
   "cell_type": "code",
   "execution_count": 18,
   "metadata": {},
   "outputs": [],
   "source": [
    "Audio.save(generated_audios.cpu().numpy(), sample_rate=SAMPLING_RATE, folder_path=run_folder) "
   ]
  }
 ],
 "metadata": {
  "kernelspec": {
   "display_name": "Python 3 (ipykernel)",
   "language": "python",
   "name": "python3"
  },
  "language_info": {
   "codemirror_mode": {
    "name": "ipython",
    "version": 3
   },
   "file_extension": ".py",
   "mimetype": "text/x-python",
   "name": "python",
   "nbconvert_exporter": "python",
   "pygments_lexer": "ipython3",
   "version": "3.10.10"
  }
 },
 "nbformat": 4,
 "nbformat_minor": 4
}
