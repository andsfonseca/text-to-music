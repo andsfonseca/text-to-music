{
 "cells": [
  {
   "cell_type": "markdown",
   "metadata": {},
   "source": [
    "# Diffusion Auto Encoder\n",
    "\n",
    "This is a implementation from [audio-diffusion-pytorch](https://github.com/archinetai/audio-diffusion-pytorch). "
   ]
  },
  {
   "cell_type": "code",
   "execution_count": 14,
   "metadata": {},
   "outputs": [],
   "source": [
    "import torch\n",
    "from torch.utils.data import DataLoader\n",
    "from torchvision import transforms\n",
    "from tqdm import tqdm\n",
    "from pathlib import Path\n",
    "import datetime\n",
    "\n",
    "from audio_diffusion_pytorch import UNetV0, VDiffusion, VSampler\n",
    "from audio_encoders_pytorch import MelE1d, TanhBottleneck\n",
    "\n",
    "from src.datasets import MusicCapsDataset\n",
    "from src.features import PreProcessor\n",
    "from src.features.extractor import WaveformExtractor\n",
    "from src.utils.data import TorchDataset\n",
    "\n",
    "from pytorch_lightning.callbacks import Callback\n",
    "import copy\n",
    "import torch.optim as optim\n",
    "import pytorch_lightning as pl\n",
    "from pytorch_lightning.callbacks import ModelCheckpoint\n",
    "from audio_diffusion_pytorch import DiffusionAE as DiffusionAEBase\n",
    "import matplotlib.pyplot as plt"
   ]
  },
  {
   "cell_type": "markdown",
   "metadata": {},
   "source": [
    "## Data Preparation"
   ]
  },
  {
   "cell_type": "markdown",
   "metadata": {},
   "source": [
    "### Generate Dataset\n",
    "\n",
    "Each Musiccaps dataset has 10-second audios. To adapt to this model we will apply the following changes to the data:\n",
    "\n",
    "* We will divide the data into two parts of 5.5 seconds. Each part of the audio will have two times: from 0 to 5.5 and 4.5 to 10 seconds.\n",
    "* For each new audio, we will add information to the 'aspect list' and 'caption' explaining the audio track. For example '1 of 2' or '2 of 2'."
   ]
  },
  {
   "cell_type": "code",
   "execution_count": 2,
   "metadata": {},
   "outputs": [],
   "source": [
    "musiccaps_generator = MusicCapsDataset(format=\"mp3\", crop_length=5.5)\n",
    "dataset = musiccaps_generator.generate(num_proc=1)"
   ]
  },
  {
   "cell_type": "markdown",
   "metadata": {},
   "source": [
    "### Preprocessing the data\n",
    "\n",
    "For the format defined by the article, we need to cut the song to size 2**18 (approximately 5.5 seconds), so that it adapts to the network input"
   ]
  },
  {
   "cell_type": "code",
   "execution_count": 3,
   "metadata": {},
   "outputs": [
    {
     "name": "stdout",
     "output_type": "stream",
     "text": [
      "Loading train/test indexes...\n"
     ]
    },
    {
     "name": "stderr",
     "output_type": "stream",
     "text": [
      "Generating train subset [Waveform]: 100%|██████████| 8712/8712 [05:00<00:00, 28.95it/s]\n",
      "Generating test subset [Waveform]: 100%|██████████| 2178/2178 [02:06<00:00, 17.26it/s]\n"
     ]
    }
   ],
   "source": [
    "# Tip: We don't need to save waveforms.\n",
    "train, test = PreProcessor(dataset, lambda dataset : WaveformExtractor(dataset, column=\"audio\", crop_length=2**18)).get_train_test_split(path=musiccaps_generator.get_processed_folder(), save_split_sets=False)"
   ]
  },
  {
   "cell_type": "markdown",
   "metadata": {},
   "source": [
    "## Training"
   ]
  },
  {
   "cell_type": "markdown",
   "metadata": {},
   "source": [
    "### Adapting train data\n",
    "\n",
    "We need to adapt the standard pytorch data:\n",
    "\n",
    "* The pattern suggested in the documentation is [batch, in_channels, length]. In our case, our dataset is in the format [batch, length]. (length is the multiplication of frequency by time).\n",
    "* We need to use DataLoader, an optimized implementation to access our data.\n",
    "* We take the opportunity to use the gpu, if available"
   ]
  },
  {
   "cell_type": "code",
   "execution_count": 4,
   "metadata": {},
   "outputs": [],
   "source": [
    "device = torch.device('cuda' if torch.cuda.is_available() else 'cpu')\n",
    "batch_size = 4\n",
    "transform = lambda x: x.unsqueeze(0) # (batch, length) ->  (batch, 1, length)\n",
    "\n",
    "train_dataset = TorchDataset(train[:20], transform=transform)\n",
    "train_dataloader = DataLoader(train_dataset, batch_size=batch_size, shuffle=True)"
   ]
  },
  {
   "cell_type": "markdown",
   "metadata": {},
   "source": [
    "### Model definition\n",
    "\n",
    "We use the same as the original example. We add an optimizer to update the parameters of the model based on the gradients computed during backpropagation.\n",
    "The loss is calculated internally."
   ]
  },
  {
   "cell_type": "markdown",
   "metadata": {},
   "source": [
    "### Training loop"
   ]
  },
  {
   "cell_type": "code",
   "execution_count": 6,
   "metadata": {},
   "outputs": [],
   "source": [
    "MODEL_ROOT_FOLDER = \"models\"\n",
    "\n",
    "class DiffusionAE(pl.LightningModule):\n",
    "    def __init__(self):\n",
    "        super().__init__()\n",
    "        self.model = DiffusionAEBase(\n",
    "                    encoder=MelE1d(\n",
    "                        in_channels=1,\n",
    "                        channels=512,\n",
    "                        multipliers=[1, 1],\n",
    "                        factors=[2],\n",
    "                        num_blocks=[12],\n",
    "                        out_channels=32,\n",
    "                        mel_channels=80,\n",
    "                        mel_sample_rate=48000,\n",
    "                        mel_normalize_log=True,\n",
    "                        bottleneck=TanhBottleneck(),\n",
    "                    ),\n",
    "                    inject_depth=6,\n",
    "                    net_t=UNetV0,\n",
    "                    in_channels=1,\n",
    "                    channels=[8, 32, 64, 128, 256, 512, 512, 1024, 1024],\n",
    "                    factors=[1, 4, 4, 4, 2, 2, 2, 2, 2],\n",
    "                    items=[1, 2, 2, 2, 2, 2, 2, 4, 4],\n",
    "                    diffusion_t=VDiffusion,\n",
    "                    sampler_t=VSampler,\n",
    "                    )\n",
    "        self.model_dir = f\"{MODEL_ROOT_FOLDER}/DiffusionAE\"\n",
    "\n",
    "    def configure_optimizers(self):\n",
    "        optimizer = optim.Adam(self.model.parameters(), lr=1e-4)\n",
    "        return optimizer\n",
    "\n",
    "    def training_step(self, batch, batch_idx):\n",
    "        loss = self.model(batch)\n",
    "        self.log('train_loss', loss)\n",
    "        return loss\n",
    "    \n",
    "    def get_model_folder(self):\n",
    "        \"\"\"\n",
    "        Returns the path to the model folder for saving checkpoints.\n",
    "\n",
    "        Returns:\n",
    "            str: The path to the raw folder.\n",
    "        \"\"\"\n",
    "        Path(self.model_dir).mkdir(exist_ok=True, parents=True)\n",
    "        return self.model_dir\n",
    "\n",
    "    def configure_logger(self):\n",
    "        return pl.loggers.TensorBoardLogger(self.log_dir)"
   ]
  },
  {
   "cell_type": "code",
   "execution_count": 8,
   "metadata": {},
   "outputs": [],
   "source": [
    "class MetricsCallback(Callback):\n",
    "    \"\"\"A PyTorch Lightning callback that logs the metrics at the end of each train epoch.\n",
    "\n",
    "    This callback logs the metrics computed by the trainer at the end of each train epoch and stores them in a\n",
    "    list. The logged metrics can be accessed through the `metrics` attribute of the callback.\n",
    "\n",
    "    Args:\n",
    "        metrics (list[dict[str, float]]): A list of dictionaries containing the logged metrics at the end of each\n",
    "            train epoch. Each dictionary contains the metric names as keys and their values as values.\n",
    "\n",
    "    \"\"\"\n",
    "    def __init__(self):\n",
    "        super().__init__()\n",
    "        self.metrics = []\n",
    "\n",
    "    def on_train_epoch_end(self, trainer, pl_module):\n",
    "        \"\"\"Log the metrics at the end of each train epoch.\n",
    "\n",
    "        This method is called by the trainer at the end of each train epoch. It logs the metrics computed by\n",
    "        the trainer and stores them in a list.\n",
    "\n",
    "        Args:\n",
    "            trainer (Trainer): The trainer instance.\n",
    "            pl_module (LightningModule): The LightningModule instance being trained.\n",
    "            \n",
    "        \"\"\"\n",
    "        self.metrics.append(copy.deepcopy(trainer.callback_metrics))"
   ]
  },
  {
   "cell_type": "code",
   "execution_count": 9,
   "metadata": {},
   "outputs": [
    {
     "name": "stderr",
     "output_type": "stream",
     "text": [
      "GPU available: True (cuda), used: True\n",
      "TPU available: False, using: 0 TPU cores\n",
      "IPU available: False, using: 0 IPUs\n",
      "HPU available: False, using: 0 HPUs\n",
      "Missing logger folder: d:\\Users\\neliareis\\Documents\\workspace\\Python\\text-to-music\\lightning_logs\n",
      "LOCAL_RANK: 0 - CUDA_VISIBLE_DEVICES: [0]\n",
      "\n",
      "  | Name  | Type        | Params\n",
      "--------------------------------------\n",
      "0 | model | DiffusionAE | 197 M \n",
      "--------------------------------------\n",
      "197 M     Trainable params\n",
      "0         Non-trainable params\n",
      "197 M     Total params\n",
      "790.878   Total estimated model params size (MB)\n",
      "d:\\Users\\neliareis\\Documents\\workspace\\Python\\text-to-music\\.conda\\Lib\\site-packages\\pytorch_lightning\\trainer\\connectors\\data_connector.py:441: The 'train_dataloader' does not have many workers which may be a bottleneck. Consider increasing the value of the `num_workers` argument` to `num_workers=11` in the `DataLoader` to improve performance.\n",
      "d:\\Users\\neliareis\\Documents\\workspace\\Python\\text-to-music\\.conda\\Lib\\site-packages\\pytorch_lightning\\loops\\fit_loop.py:293: The number of training batches (5) is smaller than the logging interval Trainer(log_every_n_steps=50). Set a lower value for log_every_n_steps if you want to see logs for the training epoch.\n"
     ]
    },
    {
     "data": {
      "application/vnd.jupyter.widget-view+json": {
       "model_id": "5e32cd8f5d3749af9276f99203e86af7",
       "version_major": 2,
       "version_minor": 0
      },
      "text/plain": [
       "Training: |          | 0/? [00:00<?, ?it/s]"
      ]
     },
     "metadata": {},
     "output_type": "display_data"
    },
    {
     "name": "stderr",
     "output_type": "stream",
     "text": [
      "`Trainer.fit` stopped: `max_epochs=5` reached.\n"
     ]
    }
   ],
   "source": [
    "# Define o modelo autoencoder e os dataloaders\n",
    "autoencoder = DiffusionAE()\n",
    "\n",
    "# Diretório para salvar os checkpoints\n",
    "save_dir = autoencoder.get_model_folder()\n",
    "current_time = datetime.datetime.now().strftime(\"/run_%Y-%m-%d_%H-%M-%S'\")\n",
    "Path(save_dir + current_time).mkdir(exist_ok=True, parents=True)\n",
    "\n",
    "callbacks_list = [ModelCheckpoint(dirpath=save_dir + current_time, save_top_k=-1, verbose=True),\n",
    "                  MetricsCallback()]\n",
    "\n",
    "# Configurar treinamento\n",
    "trainer = pl.Trainer(\n",
    "    max_epochs=5,  # Número de épocas\n",
    "    callbacks=callbacks_list,\n",
    ")\n",
    "\n",
    "# Treinar o modelo\n",
    "trainer.fit(model=autoencoder, train_dataloaders=train_dataloader)"
   ]
  },
  {
   "cell_type": "code",
   "execution_count": 15,
   "metadata": {},
   "outputs": [
    {
     "name": "stdout",
     "output_type": "stream",
     "text": [
      "Metrics at the end of a validation epoch:\n",
      "train_loss: 0.22691816091537476\n",
      "Metrics at the end of a validation epoch:\n",
      "train_loss: 0.2503470778465271\n",
      "Metrics at the end of a validation epoch:\n",
      "train_loss: 0.32330557703971863\n",
      "Metrics at the end of a validation epoch:\n",
      "train_loss: 0.2494998276233673\n",
      "Metrics at the end of a validation epoch:\n",
      "train_loss: 0.43762171268463135\n"
     ]
    }
   ],
   "source": [
    "logged_metrics = callbacks_list[1].metrics\n",
    "losses_values = []\n",
    "\n",
    "# Exiba as métricas\n",
    "for metric_dict in logged_metrics:\n",
    "    print(\"Metrics at the end of a validation epoch:\")\n",
    "    for metric_name, metric_value in metric_dict.items():\n",
    "        print(f\"{metric_name}: {metric_value}\")\n",
    "        losses_values.append(metric_value.cpu())"
   ]
  },
  {
   "cell_type": "code",
   "execution_count": 16,
   "metadata": {},
   "outputs": [
    {
     "data": {
      "image/png": "[encoded data removed]",
      "text/plain": [
       "<Figure size 640x480 with 1 Axes>"
      ]
     },
     "metadata": {},
     "output_type": "display_data"
    }
   ],
   "source": [
    "# Cria o gráfico da loss\n",
    "plt.plot(range(1, len(losses_values) + 1), losses_values, marker='o')\n",
    "plt.xlabel('Número de épocas')\n",
    "plt.ylabel('Loss')\n",
    "plt.title('Gráfico de Treinamento da Loss')\n",
    "plt.grid()\n",
    "plt.show()"
   ]
  }
 ],
 "metadata": {
  "kernelspec": {
   "display_name": "Python 3 (ipykernel)",
   "language": "python",
   "name": "python3"
  },
  "language_info": {
   "codemirror_mode": {
    "name": "ipython",
    "version": 3
   },
   "file_extension": ".py",
   "mimetype": "text/x-python",
   "name": "python",
   "nbconvert_exporter": "python",
   "pygments_lexer": "ipython3",
   "version": "3.11.5"
  }
 },
 "nbformat": 4,
 "nbformat_minor": 4
}
